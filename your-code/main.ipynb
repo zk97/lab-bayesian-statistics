{
 "cells": [
  {
   "cell_type": "markdown",
   "metadata": {},
   "source": [
    "# Intro to Bayesian Statistics Lab\n",
    "\n",
    "Complete the following set of exercises to solidify your knowledge of Bayesian statistics and Bayesian data analysis."
   ]
  },
  {
   "cell_type": "code",
   "execution_count": 2,
   "metadata": {},
   "outputs": [],
   "source": [
    "import pandas as pd\n",
    "import numpy as np\n",
    "import matplotlib.pyplot as plt"
   ]
  },
  {
   "cell_type": "markdown",
   "metadata": {},
   "source": [
    "## 1. Cookie Problem\n",
    "\n",
    "Suppose we have two bowls of cookies. Bowl 1 contains 30 vanilla cookies and 10 chocolate cookies. Bowl 2 contains 20 of each. You randomly pick one cookie out of one of the bowls, and it is vanilla. Use Bayes Theorem to calculate the probability that the vanilla cookie you picked came from Bowl 1?"
   ]
  },
  {
   "cell_type": "code",
   "execution_count": 103,
   "metadata": {},
   "outputs": [
    {
     "name": "stdout",
     "output_type": "stream",
     "text": [
      "Probability of cookie being from bowl 1 given it is vanilla:60.0%\n"
     ]
    }
   ],
   "source": [
    "#A= Cookie is from bowl1\n",
    "#B = Cookie is vanilla flavored\n",
    "#P(A|B)=P(B|A)P(A)/P(B)\n",
    "#P(B|A)P(A)=(3/4)*(1/2)\n",
    "#P(B)=5/8\n",
    "proba1=((3/4)*(1/2))/(5/8)\n",
    "print(f'Probability of cookie being from bowl 1 given it is vanilla:{round(proba1*100,2)}%')"
   ]
  },
  {
   "cell_type": "markdown",
   "metadata": {},
   "source": [
    "What is the probability that it came from Bowl 2?"
   ]
  },
  {
   "cell_type": "code",
   "execution_count": 102,
   "metadata": {},
   "outputs": [
    {
     "name": "stdout",
     "output_type": "stream",
     "text": [
      "Probability of cookie being from bowl 2 given iti s vanilla:40.0%\n"
     ]
    }
   ],
   "source": [
    "#C= Cookie is from bowl2=A^c\n",
    "#P(C|B)=P(A^c|B)=1-P(A|B)\n",
    "proba2=1-proba1\n",
    "print(f'Probability of cookie being from bowl 2 given iti s vanilla:{round(proba2*100,2)}%')"
   ]
  },
  {
   "cell_type": "markdown",
   "metadata": {},
   "source": [
    "What if the cookie you had picked was chocolate? What are the probabilities that the chocolate cookie came from Bowl 1 and Bowl 2 respectively?"
   ]
  },
  {
   "cell_type": "code",
   "execution_count": 100,
   "metadata": {},
   "outputs": [
    {
     "name": "stdout",
     "output_type": "stream",
     "text": [
      "Probability of cookie being from bowl 1 given it is chocolate:33.33%\n"
     ]
    }
   ],
   "source": [
    "#D=Cookie is chocolate flavored\n",
    "##P(A|D)=P(D|A)P(A)/P(D)\n",
    "#P(D|A)P(A)=(1/4)*(1/2)\n",
    "#P(D)=3/8\n",
    "proba3=((1/4)*(1/2))/(3/8)\n",
    "print(f'Probability of cookie being from bowl 1 given it is chocolate:{round(proba3*100,2)}%')"
   ]
  },
  {
   "cell_type": "code",
   "execution_count": 101,
   "metadata": {},
   "outputs": [
    {
     "name": "stdout",
     "output_type": "stream",
     "text": [
      "Probability of cookie being from bowl 2 given it is chocolate:66.67%\n"
     ]
    }
   ],
   "source": [
    "##P(C|D)=P(A^c|D)=1-P(A|D)\n",
    "proba4=1-proba3\n",
    "print(f'Probability of cookie being from bowl 2 given it is chocolate:{round(proba4*100,2)}%')"
   ]
  },
  {
   "cell_type": "markdown",
   "metadata": {},
   "source": [
    "## 2. Candy Problem\n",
    "\n",
    "Suppose you have two bags of candies:\n",
    "\n",
    "- In Bag 1, the mix of colors is:\n",
    "    - Brown - 30%\n",
    "    - Yellow - 20%\n",
    "    - Red - 20%\n",
    "    - Green - 10%\n",
    "    - Orange - 10%\n",
    "    - Tan - 10%\n",
    "    \n",
    "- In Bag 2, the mix of colors is:\n",
    "    - Blue - 24%\n",
    "    - Green - 20%\n",
    "    - Orange - 16%\n",
    "    - Yellow - 14%\n",
    "    - Red - 13%\n",
    "    - Brown - 13%\n",
    "    \n",
    "Not knowing which bag is which, you randomly draw one candy from each bag. One is yellow and one is green. What is the probability that the yellow one came from the Bag 1?\n",
    "\n",
    "*Hint: For the likelihoods, you will need to multiply the probabilities of drawing yellow from one bag and green from the other bag and vice versa.*"
   ]
  },
  {
   "cell_type": "code",
   "execution_count": 98,
   "metadata": {},
   "outputs": [
    {
     "name": "stdout",
     "output_type": "stream",
     "text": [
      "Probability that yellow candy came from Bag 1:74.07%\n"
     ]
    }
   ],
   "source": [
    "#Consideremos los siguientes eventos\n",
    "#A = el dulce 1 es de la bolsa 1\n",
    "#B = de los 2 dulces tomados el 1 es amarillo y el 2 es verde\n",
    "#C= el dulce 1 es amarillo\n",
    "#D= el dulce 2 es verde\n",
    "#E= el dulce 1 es de la bolsa 2 = A^c\n",
    "\n",
    "#P(A|B)=P(B|A)P(A)/P(B)\n",
    "\n",
    "#P(B|A)= P(C∩D|A)=P(C|A)P(D|A)=(20/100)*(20/100)=1/25\n",
    "#P(A)= 1/2\n",
    "#P(B)=P(B|A)P(A)+P(B|E)P(E)=P(C∩D|A)P(A)+P(C∩D|E)P(E)=1/2(P(C|A)P(D|A)+P(C|E)P(D|E))=1/2(1/25+(14/100)*(10/100))\n",
    "#=1/2(1/25+14/1000)=1/2(1/25+7/500)\n",
    "#P(A|B)=((1/25)*(1/2))/((1/2)*(1/25+7/500))=(1/25)/(1/25+7/500)\n",
    "\n",
    "proba5=(1/25)/(1/25+7/500)\n",
    "print(f'Probability that yellow candy came from Bag 1:{round(proba5*100,2)}%')"
   ]
  },
  {
   "cell_type": "markdown",
   "metadata": {},
   "source": [
    "What is the probability that the yellow candy came from Bag 2?"
   ]
  },
  {
   "cell_type": "code",
   "execution_count": 97,
   "metadata": {},
   "outputs": [
    {
     "name": "stdout",
     "output_type": "stream",
     "text": [
      "Probability that yellow candy came from Bag 2:25.93%\n"
     ]
    }
   ],
   "source": [
    "#P(E|B)=P(A^c|B)=1-P(A|B)\n",
    "proba6=1-proba5\n",
    "print(f'Probability that yellow candy came from Bag 2:{round(proba6*100,2)}%')"
   ]
  },
  {
   "cell_type": "markdown",
   "metadata": {},
   "source": [
    "What are the probabilities that the green one came from Bag 1 and Bag 2 respectively?"
   ]
  },
  {
   "cell_type": "code",
   "execution_count": 94,
   "metadata": {},
   "outputs": [
    {
     "data": {
      "text/plain": [
       "25.900000000000002"
      ]
     },
     "execution_count": 94,
     "metadata": {},
     "output_type": "execute_result"
    }
   ],
   "source": []
  },
  {
   "cell_type": "code",
   "execution_count": 96,
   "metadata": {},
   "outputs": [
    {
     "name": "stdout",
     "output_type": "stream",
     "text": [
      "Probability that green candy came from Bag 1:25.93%\n"
     ]
    }
   ],
   "source": [
    "#F= el dulce 2 es de la bolsa 2=A\n",
    "#P(F^c|B)=P(A^c|B)=1-P(A|B)=\n",
    "print(f'Probability that green candy came from Bag 1:{round(proba6*100,2)}%')"
   ]
  },
  {
   "cell_type": "code",
   "execution_count": 99,
   "metadata": {},
   "outputs": [
    {
     "name": "stdout",
     "output_type": "stream",
     "text": [
      "Probability that green candy came from Bag 2:74.07%\n"
     ]
    }
   ],
   "source": [
    "#P(F|B)=P(A|B)\n",
    "print(f'Probability that green candy came from Bag 2:{round(proba5*100,2)}%')"
   ]
  },
  {
   "cell_type": "markdown",
   "metadata": {},
   "source": [
    "## 3. Monty Hall Problem\n",
    "\n",
    "Suppose you are a contestant on the popular game show *Let's Make a Deal*. The host of the show (Monty Hall) presents you with three doors - Door A, Door B, and Door C. He tells you that there is a sports car behind one of them and if you choose the correct one, you win the car!\n",
    "\n",
    "You select Door A, but then Monty makes things a little more interesting. He opens Door B to reveal that there is no sports car behind it and asks you if you would like to stick with your choice of Door A or switch your choice to Door C. Given this new information, what are the probabilities of you winning the car if you stick with Door A versus if you switch to Door C?"
   ]
  },
  {
   "cell_type": "code",
   "execution_count": 106,
   "metadata": {},
   "outputs": [
    {
     "name": "stdout",
     "output_type": "stream",
     "text": [
      "Probability car being behind door A:33.33%\n"
     ]
    }
   ],
   "source": [
    "# A = Premio en la puerta A\n",
    "# B = Host abre puera B\n",
    "# C = Premio en puerta B\n",
    "# D = Premio en puerta C\n",
    "#P(A|B) = (P(B|A)*P(A)) / P(B)\n",
    "#P(B|A)*P(A) = (1/2*1/3)\n",
    "#P(B)= P(B|A)P(A) + P(B|C)P(C) + P(B|D)P(D)\n",
    "#P(B)= (0.5*1/3) + (0*1/3)  +  (1*1/3)\n",
    "Price_inA = ((1/2)*(1/3)) / ((0.5*1/3) + (0*1/3)  +  (1*1/3))\n",
    "print(f'Probability car being behind door A:{round(Price_inA*100,2)}%')"
   ]
  },
  {
   "cell_type": "code",
   "execution_count": 109,
   "metadata": {},
   "outputs": [
    {
     "name": "stdout",
     "output_type": "stream",
     "text": [
      "Probability car being behind door C:66.67%\n"
     ]
    }
   ],
   "source": [
    "#P(C|B) = (P(B|C)*P(C)) / P(B)\n",
    "#P(B|C)*P(C) = (1*1/3)\n",
    "#P(B)= P(B|A)P(A) + P(B|C)P(C) + P(B|D)P(D)\n",
    "#P(B)= (0.5*1/3) + (0*1/3)  +  (1*1/3)\n",
    "Price_inC = (1*1/3) / ((0.5*1/3) + (0*1/3)  +  (1*1/3))\n",
    "print(f'Probability car being behind door C:{round(Price_inC*100,2)}%')"
   ]
  },
  {
   "cell_type": "markdown",
   "metadata": {},
   "source": [
    "## 4. Bayesian Analysis \n",
    "\n",
    "Suppose you work for a landscaping company, and they want to advertise their service online. They create an ad and sit back waiting for the money to roll in. On the first day, the ad sends 100 visitors to the site and 14 of them sign up for landscaping services. Create a generative model to come up with the posterior distribution and produce a visualization of what the posterior distribution would look like given the observed data."
   ]
  },
  {
   "cell_type": "code",
   "execution_count": 60,
   "metadata": {},
   "outputs": [],
   "source": [
    "#Generate random uniform sample (random probability to buy)\n",
    "prior = pd.Series(np.random.uniform(0, 1, size=100000))"
   ]
  },
  {
   "cell_type": "code",
   "execution_count": 61,
   "metadata": {},
   "outputs": [],
   "source": [
    "#Make function that return expected buyers for probability of buying given and 100 visitors\n",
    "def generative_model(param):\n",
    "    result = np.random.binomial(100, param)\n",
    "    return result"
   ]
  },
  {
   "cell_type": "code",
   "execution_count": 62,
   "metadata": {},
   "outputs": [
    {
     "data": {
      "image/png": "[encoded data removed]",
      "text/plain": [
       "<Figure size 432x288 with 1 Axes>"
      ]
     },
     "metadata": {
      "needs_background": "light"
     },
     "output_type": "display_data"
    }
   ],
   "source": [
    "#For each probability on prior lets generate a sample of size 1 of the number of buyers given 100 visitors and save on sim_data\n",
    "sim_data = list()\n",
    "\n",
    "for p in prior:\n",
    "    sim_data.append(generative_model(p))\n",
    "    \n",
    "#We compare each sample, keep the ones that returned expected number of buyers (14) and get prior probabilities\n",
    "posterior = prior[list(map(lambda x: x == 14, sim_data))]\n",
    "#Plot distribution of porbabilities that return 14 real buyers\n",
    "posterior.hist()\n",
    "plt.show()"
   ]
  },
  {
   "cell_type": "markdown",
   "metadata": {},
   "source": [
    "Produce a set of descriptive statistics for the posterior distribution."
   ]
  },
  {
   "cell_type": "code",
   "execution_count": 63,
   "metadata": {},
   "outputs": [
    {
     "data": {
      "text/plain": [
       "count    986.000000\n",
       "mean       0.148501\n",
       "std        0.035478\n",
       "min        0.057762\n",
       "25%        0.123062\n",
       "50%        0.146497\n",
       "75%        0.172264\n",
       "max        0.299933\n",
       "dtype: float64"
      ]
     },
     "execution_count": 63,
     "metadata": {},
     "output_type": "execute_result"
    }
   ],
   "source": [
    "posterior.describe()"
   ]
  },
  {
   "cell_type": "markdown",
   "metadata": {},
   "source": [
    "What is the 90% credible interval range?"
   ]
  },
  {
   "cell_type": "code",
   "execution_count": 65,
   "metadata": {},
   "outputs": [
    {
     "name": "stdout",
     "output_type": "stream",
     "text": [
      "0.09434618652849139 | 0.2125764193613799\n"
     ]
    }
   ],
   "source": [
    "#Between 0.05 and .95 of data\n",
    "print(posterior.quantile(.05), '|', posterior.quantile(.95))"
   ]
  },
  {
   "cell_type": "markdown",
   "metadata": {},
   "source": [
    "What is the Maximum Likelihood Estimate?"
   ]
  },
  {
   "cell_type": "code",
   "execution_count": 68,
   "metadata": {},
   "outputs": [
    {
     "name": "stdout",
     "output_type": "stream",
     "text": [
      "Maximum Likelihood Estimate:  0.13 | 0.10851926977687627\n"
     ]
    }
   ],
   "source": [
    "#Why am i doing this?? haha\n",
    "#Keep 2 decimals to get integer value babilities (xx% instead of xx.xxx%)\n",
    "rounded = posterior.round(2)\n",
    "#Get mode (keep first one)\n",
    "mode = rounded.mode()[0]\n",
    "#Probability of getting the mode (mode)\n",
    "probability = list(rounded).count(mode)/len(rounded)\n",
    "print('Maximum Likelihood Estimate: ', mode, '|',probability)"
   ]
  }
 ],
 "metadata": {
  "kernelspec": {
   "display_name": "Python 3",
   "language": "python",
   "name": "python3"
  },
  "language_info": {
   "codemirror_mode": {
    "name": "ipython",
    "version": 3
   },
   "file_extension": ".py",
   "mimetype": "text/x-python",
   "name": "python",
   "nbconvert_exporter": "python",
   "pygments_lexer": "ipython3",
   "version": "3.7.3"
  }
 },
 "nbformat": 4,
 "nbformat_minor": 4
}
